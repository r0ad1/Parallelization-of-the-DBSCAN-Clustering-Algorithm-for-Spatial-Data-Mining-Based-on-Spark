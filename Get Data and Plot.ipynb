{
 "cells": [
  {
   "cell_type": "code",
   "execution_count": 1,
   "metadata": {},
   "outputs": [],
   "source": [
    "text = sc.wholeTextFiles('Geolife Trajectories 1.3/Data/10*/*')"
   ]
  },
  {
   "cell_type": "code",
   "execution_count": 2,
   "metadata": {},
   "outputs": [
    {
     "data": {
      "text/plain": [
       "[['39.974408918',\n",
       "  '116.303522101',\n",
       "  '0',\n",
       "  '480.287355643045',\n",
       "  '40753.5306944444',\n",
       "  '2011-07-29',\n",
       "  '12:44:12'],\n",
       " ['39.974397078',\n",
       "  '116.303526932',\n",
       "  '0',\n",
       "  '480.121151574803',\n",
       "  '40753.5307060185',\n",
       "  '2011-07-29',\n",
       "  '12:44:13']]"
      ]
     },
     "execution_count": 2,
     "metadata": {},
     "output_type": "execute_result"
    }
   ],
   "source": [
    "data = text.flatMap(lambda x:x[1].split('\\r\\n')[6:])\\\n",
    "                   .map(lambda x:x.split(','))\\\n",
    "                   .filter(lambda x:len(x) == 7)\n",
    "\n",
    "data.take(2)"
   ]
  },
  {
   "cell_type": "code",
   "execution_count": 3,
   "metadata": {},
   "outputs": [
    {
     "name": "stdout",
     "output_type": "stream",
     "text": [
      "root\n",
      " |-- Latitude: double (nullable = true)\n",
      " |-- Longitude: double (nullable = true)\n",
      " |-- Altitude in feet: double (nullable = true)\n",
      " |-- Date: string (nullable = true)\n",
      " |-- Time: string (nullable = true)\n",
      "\n",
      "+------------+-------------+----------------+----------+--------+\n",
      "|    Latitude|    Longitude|Altitude in feet|      Date|    Time|\n",
      "+------------+-------------+----------------+----------+--------+\n",
      "|39.974408918|116.303522101|480.287355643045|2011-07-29|12:44:12|\n",
      "|39.974397078|116.303526932|480.121151574803|2011-07-29|12:44:13|\n",
      "|39.973982524|116.303621837|478.499455380577|2011-07-29|12:44:15|\n",
      "|39.973943291|116.303632641|479.176988188976|2011-07-29|12:44:16|\n",
      "|39.973937148|116.303639667|479.129432414698|2011-07-29|12:44:17|\n",
      "|39.973916715| 116.30363848|479.615278871391|2011-07-29|12:44:18|\n",
      "|39.973892264|116.303644867|480.506026902887|2011-07-29|12:44:19|\n",
      "|39.973867401|116.303647142| 481.38750984252|2011-07-29|12:44:20|\n",
      "|39.973836462| 116.30365019|482.008727034121|2011-07-29|12:44:21|\n",
      "|39.973821199|116.303649412|482.325816929134|2011-07-29|12:44:22|\n",
      "|39.973807136|116.303642951|482.289422572178|2011-07-29|12:44:23|\n",
      "|39.973791514|116.303638069|482.314353674541|2011-07-29|12:44:24|\n",
      "|39.973782219|116.303626231|482.362713254593|2011-07-29|12:44:25|\n",
      "|39.973774037|116.303619373|482.472345800525|2011-07-29|12:44:26|\n",
      "|39.973764604|116.303612174|482.716797900262|2011-07-29|12:44:27|\n",
      "|39.973754251|116.303615089|482.782529527559|2011-07-29|12:44:28|\n",
      "|39.973736535|116.303612592|483.086404199475|2011-07-29|12:44:29|\n",
      "|39.973726284|116.303615942|483.396486220472|2011-07-29|12:44:30|\n",
      "|39.973717545|116.303614266|483.624166666667|2011-07-29|12:44:31|\n",
      "|39.973701448|116.303622536|484.271414041995|2011-07-29|12:44:32|\n",
      "+------------+-------------+----------------+----------+--------+\n",
      "only showing top 20 rows\n",
      "\n",
      "107061 Data points\n"
     ]
    }
   ],
   "source": [
    "header = ['Latitude', 'Longitude', 'Altitude in feet', 'Date', 'Time']\n",
    "\n",
    "df = data.map(lambda x:[float(x[0]), float(x[1]), float(x[3]), x[5], x[6]]).toDF(header)\n",
    "\n",
    "df.printSchema()\n",
    "df.show()\n",
    "print(df.count(), 'Data points')"
   ]
  },
  {
   "cell_type": "code",
   "execution_count": 4,
   "metadata": {},
   "outputs": [],
   "source": [
    "position_data_x = df.select('Latitude').rdd.flatMap(lambda x:list(x)).cache()\n",
    "position_data_y = df.select('Longitude').rdd.flatMap(lambda x:list(x)).cache()"
   ]
  },
  {
   "cell_type": "code",
   "execution_count": 5,
   "metadata": {},
   "outputs": [
    {
     "data": {
      "image/png": "[encoded data removed]",
      "text/plain": [
       "<matplotlib.figure.Figure at 0x195bcdc6278>"
      ]
     },
     "metadata": {},
     "output_type": "display_data"
    }
   ],
   "source": [
    "%matplotlib inline\n",
    "\n",
    "import matplotlib.pyplot as plt\n",
    "\n",
    "plt.plot(position_data_x.collect(), position_data_y.collect(), 'ob')\n",
    "plt.xlabel('Latitude') \n",
    "plt.ylabel('Longitude')\n",
    "plt.show()"
   ]
  }
 ],
 "metadata": {
  "kernelspec": {
   "display_name": "Python 3",
   "language": "python",
   "name": "python3"
  },
  "language_info": {
   "codemirror_mode": {
    "name": "ipython",
    "version": 3
   },
   "file_extension": ".py",
   "mimetype": "text/x-python",
   "name": "python",
   "nbconvert_exporter": "python",
   "pygments_lexer": "ipython3",
   "version": "3.6.4"
  }
 },
 "nbformat": 4,
 "nbformat_minor": 2
}
