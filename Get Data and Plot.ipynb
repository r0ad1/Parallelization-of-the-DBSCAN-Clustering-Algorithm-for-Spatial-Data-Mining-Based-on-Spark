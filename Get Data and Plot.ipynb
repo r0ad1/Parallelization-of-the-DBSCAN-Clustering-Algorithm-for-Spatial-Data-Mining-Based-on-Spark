{
 "cells": [
  {
   "cell_type": "code",
   "execution_count": 1,
   "metadata": {},
   "outputs": [],
   "source": [
    "# # If you are using different method to initialize spark session, this block might be different.\n",
    "# import findspark\n",
    "# findspark.init()\n",
    "\n",
    "# import pyspark\n",
    "# from pyspark import SparkContext, SparkConf\n",
    "# from pyspark.sql import SQLContext\n",
    "# from pyspark.sql.functions import *\n",
    "\n",
    "# sc = pyspark.SparkContext(appName=\"proj\")\n",
    "# sqlContext = SQLContext(sc)"
   ]
  },
  {
   "cell_type": "code",
   "execution_count": 2,
   "metadata": {},
   "outputs": [],
   "source": [
    "class GeolifeTrajectoriesData():\n",
    "    def __init__(self, SparkContext = sc, path = 'Geolife Trajectories 1.3/Data/*/*'):\n",
    "        self.attributes = ['Latitude', 'Longitude', 'Altitude in feet', 'Date', 'Time']\n",
    "        self.data = SparkContext.wholeTextFiles(path)\\\n",
    "                                .flatMap(lambda x:x[1].split('\\r\\n')[6:])\\\n",
    "                                .map(lambda x:x.split(','))\\\n",
    "                                .filter(lambda x:len(x) == 7)\n",
    "\n",
    "    def __repr__(self):\n",
    "        df = self.getDataFrame()\n",
    "        df.printSchema()\n",
    "        df.show()\n",
    "        return str(df.count()) + ' Data points'\n",
    "                    \n",
    "    def getRDD(self, cache = False, sample = 0):\n",
    "        rdd = self.data.map(lambda x:[float(x[0]), float(x[1]), float(x[3]), x[5], x[6]])\n",
    "        if cache:\n",
    "            rdd = rdd.cache()\n",
    "        return rdd\n",
    "        \n",
    "    def getDataFrame(self, cache = False):\n",
    "        df = self.getRDD().toDF(self.attributes)\n",
    "        if cache:\n",
    "            df = df.cache()\n",
    "        return df\n",
    "        \n",
    "    def getAttributes(self):\n",
    "        return self.attributes"
   ]
  },
  {
   "cell_type": "code",
   "execution_count": 3,
   "metadata": {},
   "outputs": [
    {
     "name": "stdout",
     "output_type": "stream",
     "text": [
      "root\n",
      " |-- Latitude: double (nullable = true)\n",
      " |-- Longitude: double (nullable = true)\n",
      " |-- Altitude in feet: double (nullable = true)\n",
      " |-- Date: string (nullable = true)\n",
      " |-- Time: string (nullable = true)\n",
      "\n",
      "+---------+----------+----------------+----------+--------+\n",
      "| Latitude| Longitude|Altitude in feet|      Date|    Time|\n",
      "+---------+----------+----------------+----------+--------+\n",
      "|39.974561| 116.29647|162.158549868766|2009-08-30|14:41:12|\n",
      "|39.974464|116.296562|158.387893700787|2009-08-30|14:41:14|\n",
      "|39.974671|116.296879| 164.82845144357|2009-08-30|14:41:19|\n",
      "|39.974638|116.296925|161.119796587926|2009-08-30|14:41:21|\n",
      "|39.974638|116.296987|160.238487532808|2009-08-30|14:41:22|\n",
      "|39.974578|116.297042|167.166154855643|2009-08-30|14:41:24|\n",
      "|39.974497|116.297141|167.591679790026|2009-08-30|14:41:25|\n",
      "|39.974425| 116.29721|165.564730971129|2009-08-30|14:41:26|\n",
      "|39.974355|116.297206|162.712719816273|2009-08-30|14:41:29|\n",
      "|39.974336|116.297172|150.754957349081|2009-08-30|14:41:31|\n",
      "| 39.97425|116.297272|146.971725721785|2009-08-30|14:41:35|\n",
      "|39.974213|116.297318|139.722148950131|2009-08-30|14:41:36|\n",
      "|39.974212|116.297382|138.202303149606|2009-08-30|14:41:42|\n",
      "|39.974205|116.297468|136.791187664042|2009-08-30|14:41:45|\n",
      "|39.974168| 116.29756|139.014038713911|2009-08-30|14:41:47|\n",
      "|39.974197|116.297576|119.948513779528|2009-08-30|14:41:49|\n",
      "|39.974197|116.297633|107.034333989501|2009-08-30|14:42:05|\n",
      "|39.974205|116.297745|106.399652230971|2009-08-30|14:42:07|\n",
      "|39.974214| 116.29783|106.388766404199|2009-08-30|14:42:08|\n",
      "|39.974216|116.297926|105.962578740157|2009-08-30|14:42:09|\n",
      "+---------+----------+----------------+----------+--------+\n",
      "only showing top 20 rows\n",
      "\n",
      "42640 Data points\n"
     ]
    }
   ],
   "source": [
    "data = GeolifeTrajectoriesData(sc, 'Geolife Trajectories 1.3/Data/130/*')\n",
    "print(data)"
   ]
  },
  {
   "cell_type": "code",
   "execution_count": 4,
   "metadata": {},
   "outputs": [],
   "source": [
    "position_subset = data.getRDD().map(lambda x:[x[0], x[1]]).collect()\n",
    "position_subset_x = [ps[1] for ps in position_subset]\n",
    "position_subset_y = [ps[0] for ps in position_subset]"
   ]
  },
  {
   "cell_type": "code",
   "execution_count": 5,
   "metadata": {},
   "outputs": [
    {
     "data": {
      "image/png": "[encoded data removed]",
      "text/plain": [
       "<matplotlib.figure.Figure at 0x7f9245eee710>"
      ]
     },
     "metadata": {},
     "output_type": "display_data"
    }
   ],
   "source": [
    "%matplotlib inline\n",
    "import matplotlib.pyplot as plt\n",
    "\n",
    "plt.plot(position_subset_x, position_subset_y, 'ob')\n",
    "plt.xlabel('Longitude')\n",
    "plt.ylabel('Latitude') \n",
    "plt.show()"
   ]
  },
  {
   "cell_type": "code",
   "execution_count": 6,
   "metadata": {},
   "outputs": [
    {
     "data": {
      "text/plain": [
       "[[39.974561, 116.29647],\n",
       " [39.974464, 116.296562],\n",
       " [39.974671, 116.296879],\n",
       " [39.974638, 116.296925],\n",
       " [39.974638, 116.296987]]"
      ]
     },
     "execution_count": 6,
     "metadata": {},
     "output_type": "execute_result"
    }
   ],
   "source": [
    "data.getRDD().map(lambda x: [x[0], x[1]]).take(5)"
   ]
  },
  {
   "cell_type": "code",
   "execution_count": 7,
   "metadata": {},
   "outputs": [],
   "source": [
    "def regionIds(datum):\n",
    "        regions = []\n",
    "        root_region = [int(datum[1]/20), int(datum[0]/10)]\n",
    "        regions.append(root_region)\n",
    "        is_left = True if (datum[1]<(root_region[0]-1)*20+0.2) else False #left\n",
    "        is_right = True if (datum[1]>(root_region[0]+1)*20-0.2) else False #right\n",
    "        is_up = True if (datum[0]<(root_region[1]-1)*20+0.2) else False #up\n",
    "        is_down = True if (datum[0]>(root_region[1]+1)*20-0.2) else False #down\n",
    "\n",
    "        if is_left:\n",
    "            regions.append([(root_region[0]-1),root_region[1]])\n",
    "            if is_up:\n",
    "                regions.append([(root_region[0]-1),root_region[1]-1])\n",
    "            elif is_down:\n",
    "                regions.append([(root_region[0]-1),root_region[1]+1])\n",
    "        elif is_right:\n",
    "            regions.append([(root_region[0]+1),root_region[1]])\n",
    "            if is_up:\n",
    "                regions.append([(root_region[0]+1),root_region[1]-1])\n",
    "            elif is_down:\n",
    "                regions.append([(root_region[0]+1),root_region[1]+1])\n",
    "        elif is_up:\n",
    "            regions.append([(root_region[0]),root_region[1]-1])\n",
    "        elif is_down:\n",
    "            regions.append([(root_region[0]),root_region[1]+1])\n",
    "\n",
    "        return regions\n",
    "\n",
    "class PartitionedData():\n",
    "    def __init__(self, input_data, SparkContext = sc):\n",
    "        self.data = input_data.map(lambda x: [x[0],x[1]]).map(lambda x:[x,regionIds(x)])\n",
    "    \n",
    "    def getRDD(self, cache = False, sample = 0, region = [0,0]):\n",
    "        rdd = self.data.map(lambda x: [x[1], x[0]]) if region==[0,0] else self.data.filter(lambda x: region in x[1]).map(lambda x: [x[1], x[0]])\n",
    "        if cache:\n",
    "            rdd = rdd.cache()\n",
    "        return rdd\n",
    "    \n",
    "    def getDataFrame(self, cache = False):\n",
    "        df = self.getRDD().toDF(self.attributes)\n",
    "        if cache:\n",
    "            df = df.cache()\n",
    "        return df"
   ]
  },
  {
   "cell_type": "code",
   "execution_count": 8,
   "metadata": {},
   "outputs": [],
   "source": [
    "d = PartitionedData(data.getRDD(), sc)"
   ]
  },
  {
   "cell_type": "code",
   "execution_count": 9,
   "metadata": {},
   "outputs": [
    {
     "data": {
      "text/plain": [
       "[[[[5, 3], [5, 2]], [39.974561, 116.29647]],\n",
       " [[[5, 3], [5, 2]], [39.974464, 116.296562]],\n",
       " [[[5, 3], [5, 2]], [39.974671, 116.296879]],\n",
       " [[[5, 3], [5, 2]], [39.974638, 116.296925]],\n",
       " [[[5, 3], [5, 2]], [39.974638, 116.296987]],\n",
       " [[[5, 3], [5, 2]], [39.974578, 116.297042]],\n",
       " [[[5, 3], [5, 2]], [39.974497, 116.297141]],\n",
       " [[[5, 3], [5, 2]], [39.974425, 116.29721]],\n",
       " [[[5, 3], [5, 2]], [39.974355, 116.297206]],\n",
       " [[[5, 3], [5, 2]], [39.974336, 116.297172]]]"
      ]
     },
     "execution_count": 9,
     "metadata": {},
     "output_type": "execute_result"
    }
   ],
   "source": [
    "d.getRDD(region = [5,2]).take(10)"
   ]
  }
 ],
 "metadata": {
  "kernelspec": {
   "display_name": "Python 3",
   "language": "python",
   "name": "python3"
  },
  "language_info": {
   "codemirror_mode": {
    "name": "ipython",
    "version": 3
   },
   "file_extension": ".py",
   "mimetype": "text/x-python",
   "name": "python",
   "nbconvert_exporter": "python",
   "pygments_lexer": "ipython3",
   "version": "3.6.4"
  }
 },
 "nbformat": 4,
 "nbformat_minor": 2
}
