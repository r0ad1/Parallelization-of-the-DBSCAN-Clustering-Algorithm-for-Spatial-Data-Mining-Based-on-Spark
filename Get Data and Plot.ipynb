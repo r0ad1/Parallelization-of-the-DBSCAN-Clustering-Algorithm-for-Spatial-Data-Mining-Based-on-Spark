{
 "cells": [
  {
   "cell_type": "code",
   "execution_count": 1,
   "metadata": {},
   "outputs": [],
   "source": [
    "text = sc.wholeTextFiles('Geolife Trajectories 1.3/Data/*/*')"
   ]
  },
  {
   "cell_type": "code",
   "execution_count": 2,
   "metadata": {},
   "outputs": [
    {
     "data": {
      "text/plain": [
       "[['39.984702',\n",
       "  '116.318417',\n",
       "  '0',\n",
       "  '492',\n",
       "  '39744.1201851852',\n",
       "  '2008-10-23',\n",
       "  '02:53:04'],\n",
       " ['39.984683',\n",
       "  '116.31845',\n",
       "  '0',\n",
       "  '492',\n",
       "  '39744.1202546296',\n",
       "  '2008-10-23',\n",
       "  '02:53:10']]"
      ]
     },
     "execution_count": 2,
     "metadata": {},
     "output_type": "execute_result"
    }
   ],
   "source": [
    "data = text.flatMap(lambda x:x[1].split('\\r\\n')[6:])\\\n",
    "                   .map(lambda x:x.split(','))\\\n",
    "                   .filter(lambda x:len(x) == 7)\n",
    "\n",
    "data.take(2)"
   ]
  },
  {
   "cell_type": "code",
   "execution_count": 3,
   "metadata": {},
   "outputs": [
    {
     "name": "stdout",
     "output_type": "stream",
     "text": [
      "root\n",
      " |-- Latitude: double (nullable = true)\n",
      " |-- Longitude: double (nullable = true)\n",
      " |-- Altitude in feet: double (nullable = true)\n",
      " |-- Date: string (nullable = true)\n",
      " |-- Time: string (nullable = true)\n",
      "\n",
      "+---------+----------+----------------+----------+--------+\n",
      "| Latitude| Longitude|Altitude in feet|      Date|    Time|\n",
      "+---------+----------+----------------+----------+--------+\n",
      "|39.984702|116.318417|           492.0|2008-10-23|02:53:04|\n",
      "|39.984683| 116.31845|           492.0|2008-10-23|02:53:10|\n",
      "|39.984686|116.318417|           492.0|2008-10-23|02:53:15|\n",
      "|39.984688|116.318385|           492.0|2008-10-23|02:53:20|\n",
      "|39.984655|116.318263|           492.0|2008-10-23|02:53:25|\n",
      "|39.984611|116.318026|           493.0|2008-10-23|02:53:30|\n",
      "|39.984608|116.317761|           493.0|2008-10-23|02:53:35|\n",
      "|39.984563|116.317517|           496.0|2008-10-23|02:53:40|\n",
      "|39.984539|116.317294|           500.0|2008-10-23|02:53:45|\n",
      "|39.984606|116.317065|           505.0|2008-10-23|02:53:50|\n",
      "|39.984568|116.316911|           510.0|2008-10-23|02:53:55|\n",
      "|39.984586|116.316716|           515.0|2008-10-23|02:54:00|\n",
      "|39.984561|116.316527|           520.0|2008-10-23|02:54:05|\n",
      "|39.984536|116.316354|           525.0|2008-10-23|02:54:10|\n",
      "|39.984523|116.316188|           531.0|2008-10-23|02:54:15|\n",
      "|39.984516|116.315963|           536.0|2008-10-23|02:54:20|\n",
      "|39.984523|116.315823|           541.0|2008-10-23|02:54:25|\n",
      "|39.984574|116.315611|           546.0|2008-10-23|02:54:30|\n",
      "|39.984568|116.315407|           551.0|2008-10-23|02:54:35|\n",
      "|39.984538|116.315148|           556.0|2008-10-23|02:54:40|\n",
      "+---------+----------+----------------+----------+--------+\n",
      "only showing top 20 rows\n",
      "\n",
      "24876978 Data points\n"
     ]
    }
   ],
   "source": [
    "header = ['Latitude', 'Longitude', 'Altitude in feet', 'Date', 'Time']\n",
    "\n",
    "df = data.map(lambda x:[float(x[0]), float(x[1]), float(x[3]), x[5], x[6]]).toDF(header)\n",
    "\n",
    "df.printSchema()\n",
    "df.show()\n",
    "print(df.count(), 'Data points')"
   ]
  },
  {
   "cell_type": "code",
   "execution_count": 4,
   "metadata": {},
   "outputs": [],
   "source": [
    "position_subset = df.select('Latitude', 'Longitude').rdd.map(lambda x:list(x)).takeSample(True, 1000000)\n",
    "position_subset_x = [ps[0] for ps in position_subset]\n",
    "position_subset_y = [ps[1] for ps in position_subset]"
   ]
  },
  {
   "cell_type": "code",
   "execution_count": 5,
   "metadata": {},
   "outputs": [
    {
     "data": {
      "image/png": "[encoded data removed]",
      "text/plain": [
       "<matplotlib.figure.Figure at 0x2a879e5a438>"
      ]
     },
     "metadata": {},
     "output_type": "display_data"
    }
   ],
   "source": [
    "%matplotlib inline\n",
    "\n",
    "import matplotlib.pyplot as plt\n",
    "\n",
    "plt.plot(position_subset_x, position_subset_y, 'ob')\n",
    "plt.xlabel('Latitude') \n",
    "plt.ylabel('Longitude')\n",
    "plt.show()"
   ]
  }
 ],
 "metadata": {
  "kernelspec": {
   "display_name": "Python 3",
   "language": "python",
   "name": "python3"
  },
  "language_info": {
   "codemirror_mode": {
    "name": "ipython",
    "version": 3
   },
   "file_extension": ".py",
   "mimetype": "text/x-python",
   "name": "python",
   "nbconvert_exporter": "python",
   "pygments_lexer": "ipython3",
   "version": "3.6.4"
  }
 },
 "nbformat": 4,
 "nbformat_minor": 2
}
